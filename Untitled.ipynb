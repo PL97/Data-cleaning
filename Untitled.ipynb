{
 "cells": [
  {
   "cell_type": "code",
   "execution_count": 1,
   "metadata": {},
   "outputs": [],
   "source": [
    "import Bloom_Filter.Bloom_Filter as BF\n",
    "import pandas as pd\n",
    "import numpy as np"
   ]
  },
  {
   "cell_type": "code",
   "execution_count": 2,
   "metadata": {},
   "outputs": [
    {
     "name": "stdout",
     "output_type": "stream",
     "text": [
      "[ 85   4  99 135  64  42  73  31  97  15]\n"
     ]
    }
   ],
   "source": [
    "fname = 'duplicate.csv'\n",
    "def create_duplicate(size):\n",
    "    data = pd.read_csv('Iris.csv')\n",
    "    idx = np.random.choice(range(data.shape[0]), size)\n",
    "    duplicate = data.iloc[idx, :]\n",
    "    new_data = data.append(duplicate)\n",
    "    n_new_data = new_data.reset_index(drop=True)\n",
    "    n_new_data.to_csv(fname, index = False)\n",
    "    print(idx)\n",
    "create_duplicate(10)"
   ]
  },
  {
   "cell_type": "code",
   "execution_count": 3,
   "metadata": {},
   "outputs": [],
   "source": [
    "def read_from_file(fname):\n",
    "    data = pd.read_csv(fname)\n",
    "    return data\n",
    "data = read_from_file(fname)"
   ]
  },
  {
   "cell_type": "code",
   "execution_count": 7,
   "metadata": {},
   "outputs": [
    {
     "name": "stdout",
     "output_type": "stream",
     "text": [
      "(147, 5)\n"
     ]
    }
   ],
   "source": [
    "def find_duplicate_by_column(data, columns):\n",
    "    temp_data = [[str(y) for y in list(x)] for x in data.loc[:, columns].itertuples()]\n",
    "    new_data = ['-'.join(x[1:]) for x in temp_data]\n",
    "    test = BF.BloomFilter_M(1000, 0.00001)\n",
    "    result = test.findDuplicate(new_data)\n",
    "    duplicate_pairs = list(result.values())\n",
    "    idx = [j for i in duplicate_pairs for j in i[1:]]\n",
    "    new_data = data.drop(idx, axis = 0)\n",
    "    print(new_data.shape)\n",
    "    return duplicate_pairs\n",
    "\n",
    "# data = create_duplicate(10)\n",
    "duplicate_pair = find_duplicate_by_column(data, data.columns)"
   ]
  }
 ],
 "metadata": {
  "kernelspec": {
   "display_name": "Python 3",
   "language": "python",
   "name": "python3"
  },
  "language_info": {
   "codemirror_mode": {
    "name": "ipython",
    "version": 3
   },
   "file_extension": ".py",
   "mimetype": "text/x-python",
   "name": "python",
   "nbconvert_exporter": "python",
   "pygments_lexer": "ipython3",
   "version": "3.6.5"
  }
 },
 "nbformat": 4,
 "nbformat_minor": 2
}
