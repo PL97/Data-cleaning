{
 "cells": [
  {
   "cell_type": "markdown",
   "metadata": {},
   "source": [
    "## 利用布隆过滤器实现重复数据筛选\n",
    "___\n",
    "思想：\n",
    "它实际上是一个很长的二进制向量和一系列随机映射函数。布隆过滤器可以用于检索一个元素是否在一个集合中。它的优点是空间效率和查询时间都比一般的算法要好的多，缺点是有一定的误识别率和删除困难。(源: 百度百科)\n",
    "执行过程如下\n",
    "<br>\n",
    "<br>\n",
    "+ 定义多个随机映射函数，同时确定命中率（bloom filter具有一定的识别错误率，但不会疏漏）\n",
    "<br>\n",
    "<br>\n",
    "+ 根据公式计算得到需要创建的二进制列表长度\n",
    "<br>\n",
    "<br>\n",
    "+ 第一遍将数据进行映射。原始位数组的设置比较简单和普通bloom filter一样，将映射到的位置设置为1即可。扩展数组设置为1的条件是：原始数组为1，且再一次被映射到。\n",
    "<br>\n",
    "<br>\n",
    "+ 第二遍检查扩展数组。将数据重新进行映射。如果所有映射位置都为1，表示存在与该数据重复的数据。\n",
    "\n",
    "*具体过程可参考下图*"
   ]
  },
  {
   "attachments": {
    "image.png": {
     "image/png": "[encoded data removed]"
    }
   },
   "cell_type": "markdown",
   "metadata": {},
   "source": [
    "![image.png](attachment:image.png)\n",
    "<center><br>如图有三个hash函数，原始数组中每个映射到的位置都被置为1。<br>扩展数组中只有在原始数组已经为1的情况下再次被映射到才会被设置为1</center>"
   ]
  },
  {
   "cell_type": "code",
   "execution_count": 1,
   "metadata": {},
   "outputs": [],
   "source": [
    "import numpy as np\n",
    "from BitVector import BitVector"
   ]
  },
  {
   "cell_type": "markdown",
   "metadata": {},
   "source": [
    "### 定义相关类，类中包含多个函数。\n",
    "\n",
    "#### generate_seeds \n",
    "接受一个一个参数num。num表示需要的种子个数，产生的种子供后面的hash函数使用。\n",
    "<br>\n",
    "#### BKDhash \n",
    "是一个哈希函数，接受一个随机种子。将传输进来的字符串hash成一个整数。\n",
    "<br>\n",
    "#### setArray \n",
    "作用是初始设置位数组。将两个数组都进行映射标记。\n",
    "<br>\n",
    "#### findDuplicate \n",
    "是该类的核心。接受一个list类型的数组，返回重复的数据，以及他们所在的序号位置。返回形式为dict（字符串：{位置1， 位置2， ...}）\n"
   ]
  },
  {
   "cell_type": "code",
   "execution_count": 2,
   "metadata": {},
   "outputs": [],
   "source": [
    "class BloomFilter_M(object):\n",
    "\t\"\"\"docstring for BloomFilter_M\"\"\"\n",
    "\t''' \n",
    "\tm is the length of the bitvector\n",
    "\tn is the number of the key\n",
    "\tk is the number of the hash function\n",
    "\tp is positive-false rate\n",
    "\t'''\n",
    "\tdef __init__(self, n, p):\n",
    "\t\tself.m = int(-(n*np.log(p))/(np.log(2)**2))\n",
    "\t\tself.bitarray = BitVector(size = self.m)\n",
    "\t\tself.markarry = BitVector(size = self.m)\n",
    "\t\tself.n = n\n",
    "\t\tself.k = int(-np.log2(p))\n",
    "\t\tself.p = p\n",
    "\n",
    "\tdef generate_seeds(self, num):\n",
    "\t\tx = 131\n",
    "\t\tcount = 0\n",
    "\t\twhile count < num:\n",
    "\t\t\tyield x\n",
    "\t\t\tx = x*10+3 if count%2 == 0 else x*10+1\n",
    "\t\t\tcount += 1\n",
    "\n",
    "\t# hash function\n",
    "\tdef BKDRHash(self, string, seed):\n",
    "\t\t# seed = 131\n",
    "\t\tmy_hash = 0\n",
    "\t\tfor ch in string:\n",
    "\t\t\tmy_hash = my_hash * seed + ord(ch)\n",
    "\t\treturn my_hash % self.m\n",
    "\n",
    "\tdef SetArray(self, L):\n",
    "\t\tfor l in L:\n",
    "\t\t\tseed = self.generate_seeds(self.k)\n",
    "\t\t\tfor s in seed:\n",
    "\t\t\t\ttemp_index = self.BKDRHash(str(l), s)\n",
    "\t\t\t\tif self.bitarray[temp_index] == 1:\n",
    "\t\t\t\t\tself.markarry[temp_index] = 1\n",
    "\t\t\t\telse:\n",
    "\t\t\t\t\tself.bitarray[temp_index] = 1\n",
    "\n",
    "\tdef findDuplicate(self, L):\n",
    "\t\tself.SetArray(L)\n",
    "\t\tduplicate = {}\n",
    "\t\tindexs = [-1]*self.k\n",
    "\t\tfor l in L:\n",
    "\t\t\tseed = self.generate_seeds(self.k)\n",
    "\t\t\tn = 0\n",
    "\t\t\tfor s in seed:\n",
    "\t\t\t\tflag = True\n",
    "\t\t\t\ttemp_index = self.BKDRHash(str(l), s)\n",
    "\t\t\t\tindexs[n] = temp_index\n",
    "\t\t\t\tn += 1\n",
    "\t\t\t\tif self.markarry[temp_index] == 0:\n",
    "\t\t\t\t\tflag = False\n",
    "\t\t\t\t\tbreak\n",
    "\t\t\tif flag:\n",
    "\t\t\t\tduplicate[l] = indexs\n",
    "\t\tduplicate_keys = {x:[] for x in duplicate.keys()}\n",
    "\t\tfor i in range(len(L)):\n",
    "\t\t\tif L[i] in duplicate.keys():\n",
    "\t\t\t\tduplicate_keys[L[i]].append(i)\n",
    "\t\treturn duplicate_keys"
   ]
  },
  {
   "cell_type": "markdown",
   "metadata": {},
   "source": [
    "### 测试模块"
   ]
  },
  {
   "cell_type": "code",
   "execution_count": 3,
   "metadata": {},
   "outputs": [
    {
     "name": "stdout",
     "output_type": "stream",
     "text": [
      "{'Le': [0, 2], 'test': [3, 7], 'text': [5, 9], 'png': [8, 10]}\n"
     ]
    }
   ],
   "source": [
    "test = BloomFilter_M(10, 0.0001)\n",
    "L = ['Le', 'pang', 'Le', 'test', 'tet', 'text', 'tett', 'test', 'png', 'text', 'png']\n",
    "print(test.findDuplicate(L))"
   ]
  },
  {
   "cell_type": "code",
   "execution_count": 4,
   "metadata": {},
   "outputs": [
    {
     "name": "stdout",
     "output_type": "stream",
     "text": [
      "False\n"
     ]
    }
   ],
   "source": [
    "t1 = ['a', 'b', 'c']\n",
    "t2 = ['a', 'c']\n",
    "t3 = ['b', 'd']\n",
    "\n",
    "print(set(t1) > set(t3))"
   ]
  }
 ],
 "metadata": {
  "kernelspec": {
   "display_name": "Python 3",
   "language": "python",
   "name": "python3"
  },
  "language_info": {
   "codemirror_mode": {
    "name": "ipython",
    "version": 3
   },
   "file_extension": ".py",
   "mimetype": "text/x-python",
   "name": "python",
   "nbconvert_exporter": "python",
   "pygments_lexer": "ipython3",
   "version": "3.6.5"
  }
 },
 "nbformat": 4,
 "nbformat_minor": 2
}
