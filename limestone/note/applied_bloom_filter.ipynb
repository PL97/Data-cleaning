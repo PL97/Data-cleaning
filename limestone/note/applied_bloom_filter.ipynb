{
 "cells": [
  {
   "cell_type": "code",
   "execution_count": 5,
   "metadata": {},
   "outputs": [
    {
     "ename": "ModuleNotFoundError",
     "evalue": "No module named 'Duplicate'",
     "output_type": "error",
     "traceback": [
      "\u001b[1;31m---------------------------------------------------------------------------\u001b[0m",
      "\u001b[1;31mModuleNotFoundError\u001b[0m                       Traceback (most recent call last)",
      "\u001b[1;32m<ipython-input-5-139228212caf>\u001b[0m in \u001b[0;36m<module>\u001b[1;34m()\u001b[0m\n\u001b[1;32m----> 1\u001b[1;33m \u001b[1;32mimport\u001b[0m \u001b[0mDuplicate\u001b[0m\u001b[1;33m.\u001b[0m\u001b[0mBloom_Filter\u001b[0m\u001b[1;33m.\u001b[0m\u001b[0mBloom_Filter\u001b[0m \u001b[1;32mas\u001b[0m \u001b[0mBF\u001b[0m\u001b[1;33m\u001b[0m\u001b[0m\n\u001b[0m\u001b[0;32m      2\u001b[0m \u001b[1;32mimport\u001b[0m \u001b[0mpandas\u001b[0m \u001b[1;32mas\u001b[0m \u001b[0mpd\u001b[0m\u001b[1;33m\u001b[0m\u001b[0m\n\u001b[0;32m      3\u001b[0m \u001b[1;32mimport\u001b[0m \u001b[0mnumpy\u001b[0m \u001b[1;32mas\u001b[0m \u001b[0mnp\u001b[0m\u001b[1;33m\u001b[0m\u001b[0m\n",
      "\u001b[1;31mModuleNotFoundError\u001b[0m: No module named 'Duplicate'"
     ]
    }
   ],
   "source": [
    "import Duplicate.Bloom_Filter.Bloom_Filter as BF\n",
    "import pandas as pd\n",
    "import numpy as np"
   ]
  },
  {
   "cell_type": "code",
   "execution_count": null,
   "metadata": {},
   "outputs": [],
   "source": [
    "fname = 'data/duplicate.csv'\n",
    "def create_duplicate(size):\n",
    "    data = pd.read_csv('data/Iris.csv')\n",
    "    idx = np.random.choice(range(data.shape[0]), size)\n",
    "    duplicate = data.iloc[idx, :]\n",
    "    new_data = data.append(duplicate)\n",
    "    n_new_data = new_data.reset_index(drop=True)\n",
    "    n_new_data.to_csv(fname, index = False)\n",
    "    print(idx)\n",
    "create_duplicate(10)"
   ]
  },
  {
   "cell_type": "code",
   "execution_count": null,
   "metadata": {},
   "outputs": [],
   "source": [
    "def read_from_file(fname):\n",
    "    data = pd.read_csv(fname)\n",
    "    return data\n",
    "data = read_from_file(fname)"
   ]
  },
  {
   "cell_type": "code",
   "execution_count": null,
   "metadata": {},
   "outputs": [],
   "source": [
    "def find_duplicate_by_column(data, columns):\n",
    "    if set(data.columns) >= set(columns):\n",
    "        temp_data = [[str(y) for y in list(x)] for x in data.loc[:, columns].itertuples()]\n",
    "        new_data = ['-'.join(x[1:]) for x in temp_data]\n",
    "        test = BF.BloomFilter_M(1000, 0.00001)\n",
    "        result = test.findDuplicate(new_data)\n",
    "        duplicate_pairs = list(result.values())\n",
    "        idx = [j for i in duplicate_pairs for j in i[1:]]\n",
    "        new_data = data.drop(idx, axis = 0)\n",
    "        print(new_data.shape)\n",
    "    else:\n",
    "        print('input columns are not contained in the data')\n",
    "        duplicate_pairs = None\n",
    "    return duplicate_pairs\n",
    "\n",
    "# data = create_duplicate(10)\n",
    "# duplicate_pair = find_duplicate_by_column(data, data.columns)\n",
    "# print(duplicate_pair)\n",
    "test = BF.BloomFilter_M(1000, 0.00001)\n",
    "new_data = test.find_duplicate_by_column(data, data.columns)\n",
    "print(new_data)"
   ]
  }
 ],
 "metadata": {
  "kernelspec": {
   "display_name": "Python 3",
   "language": "python",
   "name": "python3"
  },
  "language_info": {
   "codemirror_mode": {
    "name": "ipython",
    "version": 3
   },
   "file_extension": ".py",
   "mimetype": "text/x-python",
   "name": "python",
   "nbconvert_exporter": "python",
   "pygments_lexer": "ipython3",
   "version": "3.6.5"
  }
 },
 "nbformat": 4,
 "nbformat_minor": 2
}
