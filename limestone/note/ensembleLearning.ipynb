{
 "cells": [
  {
   "cell_type": "markdown",
   "metadata": {},
   "source": [
    "## Ensemble Learning\n",
    "method: bagging & stacking"
   ]
  },
  {
   "cell_type": "code",
   "execution_count": 1,
   "metadata": {},
   "outputs": [],
   "source": [
    "import numpy as np\n",
    "import pandas as pd\n",
    "import random\n",
    "from sklearn.tree import DecisionTreeClassifier\n",
    "from scipy import stats\n",
    "from sklearn import preprocessing"
   ]
  },
  {
   "cell_type": "code",
   "execution_count": 2,
   "metadata": {},
   "outputs": [],
   "source": [
    "def sample(data, size):\n",
    "    if(size > data.shape[0]):\n",
    "        print(\"size greater than the data size!\")\n",
    "        size = data.shape[0]\n",
    "    idx = random.sample(range(0, data.shape[0]), size)\n",
    "    return data.iloc[idx, :], idx\n",
    "\n",
    "def category2num(data):\n",
    "    num2Cat = {}\n",
    "    for x in data.columns:\n",
    "        if data[x].dtype != 'float' and data[x].dtype != 'int64':\n",
    "            num = preprocessing.LabelEncoder()\n",
    "            num.fit(data[x].astype(str))\n",
    "            data[x] = num.transform(data[x].astype(str))\n",
    "            num2Cat[x] = num\n",
    "    return data, num2Cat"
   ]
  },
  {
   "cell_type": "code",
   "execution_count": 3,
   "metadata": {},
   "outputs": [],
   "source": [
    "# simple stacking\n",
    "class ensembleLearning:\n",
    "    def __init__(self):\n",
    "        self.model = []\n",
    "        pass\n",
    "    \n",
    "    def trainForSub(self, feature, label):\n",
    "        model = DecisionTreeClassifier(criterion = 'entropy')\n",
    "        model.fit(feature, label)\n",
    "        self.model.append(model)\n",
    "        \n",
    "    def intergrate(self, feature, label):\n",
    "        result = []\n",
    "        for m in self.model:\n",
    "            result.append(m.predict(feature))\n",
    "        result = np.array(result).transpose()\n",
    "\n",
    "        model = DecisionTreeClassifier(criterion = 'entropy')\n",
    "        new_feature = category2num(pd.DataFrame(result[:, :-1]))[0]\n",
    "        new_label = np.array(result[:, -1])\n",
    "        model.fit(new_feature, new_label)\n",
    "        self.sec_model = model    \n",
    "    \n",
    "    def predict(self, feature):\n",
    "        result = []\n",
    "        for m in self.model:\n",
    "            result.append(m.predict(feature))\n",
    "        result = np.array(result).transpose()\n",
    "        return result\n",
    "    \n",
    "    def bagging(self, feature):\n",
    "        models_result = self.predict(feature)\n",
    "        print(models_result.shape)\n",
    "        result = [pd.Series.mode(x)[0] for x in models_result]\n",
    "        return result\n",
    "\n",
    "        \n",
    "    def stacking(self, train_data, feature):\n",
    "        self.intergrate(train_data.iloc[:, :-1], train_data.iloc[:, -1])\n",
    "        result = self.predict(feature)\n",
    "        new_feature = category2num(pd.DataFrame(result[:, :-1]))[0]\n",
    "        result = self.sec_model.predict(new_feature)   \n",
    "        return result\n",
    "        "
   ]
  },
  {
   "cell_type": "code",
   "execution_count": 4,
   "metadata": {},
   "outputs": [],
   "source": [
    "# revise the file route if necessary\n",
    "file = \"../data/iris.csv\"\n",
    "data = pd.read_csv(file, header = 0)\n",
    "train_data, idx = sample(data, round(data.shape[0] * 0.7))\n",
    "test_data = data.drop(idx)"
   ]
  },
  {
   "cell_type": "code",
   "execution_count": 5,
   "metadata": {},
   "outputs": [],
   "source": [
    "EL = ensembleLearning()\n",
    "\n",
    "sub_model_num = 10\n",
    "train_size = round(train_data.shape[0] * 0.3)\n",
    "\n",
    "for i in range(sub_model_num):\n",
    "    sample_data = sample(train_data, train_size)\n",
    "    sample_feature = train_data.iloc[:, :-1]\n",
    "    sample_label = train_data.iloc[:, -1]\n",
    "    EL.trainForSub(sample_feature, sample_label)\n",
    "EL.intergrate(train_data.iloc[:, :-1], train_data.iloc[:, -1])"
   ]
  },
  {
   "cell_type": "markdown",
   "metadata": {},
   "source": [
    "## bagging"
   ]
  },
  {
   "cell_type": "code",
   "execution_count": 6,
   "metadata": {},
   "outputs": [
    {
     "name": "stdout",
     "output_type": "stream",
     "text": [
      "(45, 10)\n"
     ]
    }
   ],
   "source": [
    "bagging_result = EL.bagging(test_data.iloc[:, :-1])"
   ]
  },
  {
   "cell_type": "code",
   "execution_count": 7,
   "metadata": {},
   "outputs": [
    {
     "name": "stdout",
     "output_type": "stream",
     "text": [
      "0.9555555555555556\n"
     ]
    }
   ],
   "source": [
    "check = np.where(bagging_result == test_data.iloc[:, -1])\n",
    "print(len(check[0])/test_data.shape[0])"
   ]
  },
  {
   "cell_type": "markdown",
   "metadata": {},
   "source": [
    "## stacking"
   ]
  },
  {
   "cell_type": "code",
   "execution_count": 8,
   "metadata": {},
   "outputs": [],
   "source": [
    "stacking_result = EL.stacking(train_data, test_data.iloc[:, :-1])"
   ]
  },
  {
   "cell_type": "code",
   "execution_count": 9,
   "metadata": {},
   "outputs": [
    {
     "name": "stdout",
     "output_type": "stream",
     "text": [
      "0.9555555555555556\n"
     ]
    }
   ],
   "source": [
    "check = np.where(stacking_result == test_data.iloc[:, -1])\n",
    "print(len(check[0])/test_data.shape[0])"
   ]
  },
  {
   "cell_type": "markdown",
   "metadata": {},
   "source": [
    "## test on the sigle one model\n",
    "***model type: decision tree (with entropy as criterion)***"
   ]
  },
  {
   "cell_type": "code",
   "execution_count": 10,
   "metadata": {},
   "outputs": [
    {
     "name": "stdout",
     "output_type": "stream",
     "text": [
      "0.9555555555555556\n"
     ]
    }
   ],
   "source": [
    "model = DecisionTreeClassifier(criterion = 'entropy')\n",
    "model.fit(train_data.iloc[:, :-1], train_data.iloc[:, -1])\n",
    "r = model.predict(test_data.iloc[:, :-1])\n",
    "check = np.where(r == test_data.iloc[:, -1])\n",
    "print(len(check[0])/test_data.shape[0])"
   ]
  },
  {
   "cell_type": "code",
   "execution_count": null,
   "metadata": {},
   "outputs": [],
   "source": []
  }
 ],
 "metadata": {
  "kernelspec": {
   "display_name": "Python 3",
   "language": "python",
   "name": "python3"
  },
  "language_info": {
   "codemirror_mode": {
    "name": "ipython",
    "version": 3
   },
   "file_extension": ".py",
   "mimetype": "text/x-python",
   "name": "python",
   "nbconvert_exporter": "python",
   "pygments_lexer": "ipython3",
   "version": "3.6.5"
  }
 },
 "nbformat": 4,
 "nbformat_minor": 2
}
