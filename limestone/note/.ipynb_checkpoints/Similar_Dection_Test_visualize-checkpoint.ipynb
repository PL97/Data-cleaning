{
 "cells": [
  {
   "cell_type": "code",
   "execution_count": 8,
   "metadata": {},
   "outputs": [
    {
     "ename": "ModuleNotFoundError",
     "evalue": "No module named 'limestone'",
     "output_type": "error",
     "traceback": [
      "\u001b[1;31m---------------------------------------------------------------------------\u001b[0m",
      "\u001b[1;31mModuleNotFoundError\u001b[0m                       Traceback (most recent call last)",
      "\u001b[1;32m<ipython-input-8-12d621cbf0c1>\u001b[0m in \u001b[0;36m<module>\u001b[1;34m()\u001b[0m\n\u001b[1;32m----> 1\u001b[1;33m \u001b[1;32mimport\u001b[0m \u001b[0mlimestone\u001b[0m\u001b[1;33m.\u001b[0m\u001b[0mDuplicate\u001b[0m\u001b[1;33m.\u001b[0m\u001b[0mSimilar_Dection\u001b[0m\u001b[1;33m.\u001b[0m\u001b[0mSimilar_Dection\u001b[0m \u001b[1;32mas\u001b[0m \u001b[0mSD\u001b[0m\u001b[1;33m\u001b[0m\u001b[0m\n\u001b[0m\u001b[0;32m      2\u001b[0m \u001b[1;32mimport\u001b[0m \u001b[0mnumpy\u001b[0m \u001b[1;32mas\u001b[0m \u001b[0mnp\u001b[0m\u001b[1;33m\u001b[0m\u001b[0m\n\u001b[0;32m      3\u001b[0m \u001b[1;32mimport\u001b[0m \u001b[0mpandas\u001b[0m \u001b[1;32mas\u001b[0m \u001b[0mpd\u001b[0m\u001b[1;33m\u001b[0m\u001b[0m\n\u001b[0;32m      4\u001b[0m \u001b[1;32mimport\u001b[0m \u001b[0mmatplotlib\u001b[0m\u001b[1;33m.\u001b[0m\u001b[0mpyplot\u001b[0m \u001b[1;32mas\u001b[0m \u001b[0mplt\u001b[0m\u001b[1;33m\u001b[0m\u001b[0m\n",
      "\u001b[1;31mModuleNotFoundError\u001b[0m: No module named 'limestone'"
     ]
    }
   ],
   "source": [
    "import Duplicate.Similar_Dection.Similar_Dection as SD\n",
    "import numpy as np\n",
    "import pandas as pd\n",
    "import matplotlib.pyplot as plt"
   ]
  },
  {
   "cell_type": "code",
   "execution_count": null,
   "metadata": {},
   "outputs": [],
   "source": [
    "fname = 'data/full_name.csv'\n",
    "data = pd.read_csv(fname, index_col = 0)\n",
    "print(data.head())"
   ]
  },
  {
   "cell_type": "code",
   "execution_count": null,
   "metadata": {},
   "outputs": [],
   "source": [
    "test = SD.SimilarDection(2, 1, 0.5, 0.3)\n",
    "score = []\n",
    "for row in data.itertuples(index=False):\n",
    "    score.append(test.Smith_Waterman(row[0], row[1])[2])"
   ]
  },
  {
   "cell_type": "code",
   "execution_count": null,
   "metadata": {},
   "outputs": [],
   "source": [
    "new_score = list(map(lambda x: int(x * 100), score))\n",
    "round_score = []\n",
    "for s in new_score:\n",
    "    if s<0:\n",
    "        temp = 0\n",
    "    elif s%10 < 3:\n",
    "        temp = int(s/10)*10\n",
    "    elif s%10 <7:\n",
    "        temp = int(s/10)*10 + 5\n",
    "    else:\n",
    "        temp = (int(s/10) + 1)*10\n",
    "    round_score.append(temp)"
   ]
  },
  {
   "cell_type": "code",
   "execution_count": null,
   "metadata": {},
   "outputs": [],
   "source": [
    "hist_score = pd.DataFrame(round_score)\n",
    "hist_score[hist_score.columns[0]].value_counts().plot.bar()\n",
    "plt.show()"
   ]
  },
  {
   "cell_type": "code",
   "execution_count": null,
   "metadata": {},
   "outputs": [],
   "source": [
    "idx = np.where(hist_score<60)[0]\n",
    "name1_l = data.iloc[:, 0]\n",
    "name2_l = data.iloc[:, 1]\n",
    "name1 = list(name1_l[idx])\n",
    "name2 = list(name2_l[idx])\n",
    "false_positive = list(zip(name1, name2))\n",
    "tmp = [x for x in false_positive if not('Alf.' in x[0] or 'Dy' in x[0])]\n",
    "# print(len(false_positive))\n",
    "# print(name2[1])\n",
    "rate = float(len(false_positive))/len(data)\n",
    "print(rate)\n",
    "print(false_positive)"
   ]
  },
  {
   "cell_type": "code",
   "execution_count": null,
   "metadata": {},
   "outputs": [],
   "source": [
    "name1_l = data.iloc[:, 0]\n",
    "name2_l = data.iloc[:, 1]\n",
    "t = np.random.permutation(name2_l)\n",
    "false_data = zip(name1_l, t)\n",
    "false_score = []\n",
    "test = SD.SimilarDection(2, 1, 0.5, 0.3)\n",
    "for str1, str2 in false_data:\n",
    "#     print(str1, '----',  str2)\n",
    "#     print(str1, str2)\n",
    "    false_score.append(test.Smith_Waterman(str1, str2)[2])"
   ]
  },
  {
   "cell_type": "code",
   "execution_count": null,
   "metadata": {},
   "outputs": [],
   "source": [
    "round_false_score = []\n",
    "new_false_score = list(map(lambda x: int(x * 100), false_score))\n",
    "for s in new_false_score:\n",
    "    if s<0:\n",
    "        temp = 0\n",
    "    elif s%10 < 3:\n",
    "        temp = int(s/10)*10\n",
    "    elif s%10 <7:\n",
    "        temp = int(s/10)*10 + 5\n",
    "    else:\n",
    "        temp = (int(s/10) + 1)*10\n",
    "    round_false_score.append(temp)\n",
    "\n",
    "hist_false_score = pd.DataFrame(round_false_score)\n",
    "hist_false_score[hist_score.columns[0]].value_counts().plot.bar()\n",
    "plt.show()"
   ]
  },
  {
   "cell_type": "code",
   "execution_count": null,
   "metadata": {},
   "outputs": [],
   "source": [
    "idx = np.where(hist_false_score > 60)[0]\n",
    "name1 = list(name1_l[idx])\n",
    "name2 = list(t[idx])\n",
    "false_positive = list(zip(name1, name2))\n",
    "print(false_positive)"
   ]
  },
  {
   "cell_type": "code",
   "execution_count": null,
   "metadata": {},
   "outputs": [],
   "source": [
    "str1 = 'Jas THOMPSON'\n",
    "str2 = 'Ursula THOMPSON'\n",
    "test = SD.SimilarDection(2, 1, 0.5, 0.3)\n",
    "result = test.Smith_Waterman(str1, str2)\n",
    "print(result)"
   ]
  }
 ],
 "metadata": {
  "kernelspec": {
   "display_name": "Python 3",
   "language": "python",
   "name": "python3"
  },
  "language_info": {
   "codemirror_mode": {
    "name": "ipython",
    "version": 3
   },
   "file_extension": ".py",
   "mimetype": "text/x-python",
   "name": "python",
   "nbconvert_exporter": "python",
   "pygments_lexer": "ipython3",
   "version": "3.6.5"
  }
 },
 "nbformat": 4,
 "nbformat_minor": 2
}
