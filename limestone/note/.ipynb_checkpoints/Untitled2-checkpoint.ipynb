{
 "cells": [
  {
   "cell_type": "markdown",
   "metadata": {},
   "source": [
    "# some simple examples for python GUI test"
   ]
  },
  {
   "cell_type": "code",
   "execution_count": 1,
   "metadata": {},
   "outputs": [
    {
     "name": "stdout",
     "output_type": "stream",
     "text": [
      "\n"
     ]
    },
    {
     "name": "stderr",
     "output_type": "stream",
     "text": [
      "Exception in Tkinter callback\n",
      "Traceback (most recent call last):\n",
      "  File \"F:\\TF\\ana\\lib\\tkinter\\__init__.py\", line 1702, in __call__\n",
      "    return self.func(*args)\n",
      "  File \"<ipython-input-1-9457e91e72a2>\", line 10, in callback\n",
      "    data = pd.read_csv(fileName, header = 0)\n",
      "  File \"F:\\TF\\ana\\lib\\site-packages\\pandas\\io\\parsers.py\", line 678, in parser_f\n",
      "    return _read(filepath_or_buffer, kwds)\n",
      "  File \"F:\\TF\\ana\\lib\\site-packages\\pandas\\io\\parsers.py\", line 440, in _read\n",
      "    parser = TextFileReader(filepath_or_buffer, **kwds)\n",
      "  File \"F:\\TF\\ana\\lib\\site-packages\\pandas\\io\\parsers.py\", line 787, in __init__\n",
      "    self._make_engine(self.engine)\n",
      "  File \"F:\\TF\\ana\\lib\\site-packages\\pandas\\io\\parsers.py\", line 1014, in _make_engine\n",
      "    self._engine = CParserWrapper(self.f, **self.options)\n",
      "  File \"F:\\TF\\ana\\lib\\site-packages\\pandas\\io\\parsers.py\", line 1708, in __init__\n",
      "    self._reader = parsers.TextReader(src, **kwds)\n",
      "  File \"pandas\\_libs\\parsers.pyx\", line 384, in pandas._libs.parsers.TextReader.__cinit__\n",
      "  File \"pandas\\_libs\\parsers.pyx\", line 695, in pandas._libs.parsers.TextReader._setup_parser_source\n",
      "FileNotFoundError: File b'' does not exist\n"
     ]
    }
   ],
   "source": [
    "from tkinter import *\n",
    "from tkinter.filedialog import askopenfilename\n",
    "import pandas as pd\n",
    "\n",
    "root=Tk()\n",
    "\n",
    "def callback():\n",
    "    fileName = askopenfilename(filetypes=[(\"CSV\",\".csv\")])\n",
    "    print(fileName)\n",
    "    data = pd.read_csv(fileName, header = 0)\n",
    "    print(data.head())\n",
    "#打开文件askopenfilename\n",
    "#defaultextension自动添加后缀\n",
    "Button(root, text=\"Openfile\",command =callback).pack()    \n",
    "\n",
    "\n",
    "\n",
    "mainloop()"
   ]
  },
  {
   "cell_type": "code",
   "execution_count": null,
   "metadata": {},
   "outputs": [],
   "source": [
    "from PyQt5 import QtCore, QtGui, QtWidgets, Qt\n",
    "from PyQt5.QtWidgets import *\n",
    "from PyQt5.QtCore import *\n",
    "\n",
    "class Ui_MainWindow(QtWidgets.QMainWindow):\n",
    "\n",
    "    def __init__(self):\n",
    "        super(Ui_MainWindow,self).__init__()\n",
    "        self.setupUi(self)\n",
    "        self.retranslateUi(self)\n",
    "        self.setAcceptDrops(True)\n",
    "\n",
    "    def setupUi(self, MainWindow):\n",
    "        MainWindow.setObjectName(\"MainWindow\")\n",
    "        MainWindow.resize(386, 127)\n",
    "        self.centralWidget = QtWidgets.QWidget(MainWindow)\n",
    "        self.centralWidget.setObjectName(\"centralWidget\")\n",
    "        self.retranslateUi(MainWindow)\n",
    "\n",
    "        self.pushButton = QtWidgets.QPushButton(self.centralWidget)\n",
    "        self.pushButton.setGeometry(QtCore.QRect(190, 90, 75, 23))\n",
    "        self.pushButton.setObjectName(\"pushButton\")\n",
    "        self.pushButton.setText(\"打开\")\n",
    "        MainWindow.setCentralWidget(self.centralWidget)\n",
    "        QtCore.QMetaObject.connectSlotsByName(MainWindow)\n",
    "\n",
    "        self.pushButton.clicked.connect(self.openfile)\n",
    "\n",
    "    def retranslateUi(self, MainWindow):\n",
    "        _translate = QtCore.QCoreApplication.translate\n",
    "        MainWindow.setWindowTitle(_translate(\"MainWindow\", \"一颗数据小白菜\"))\n",
    "\n",
    "\n",
    "    def openfile(self):\n",
    "        openfile_name = QFileDialog.getOpenFileName(self,'选择文件','','Excel files(*.xlsx , *.xls， *csv)')\n",
    "        print(openfile_name[0])\n",
    "        return openfile_name\n",
    "    \n",
    "    def dragEnterEvent(self, evn):\n",
    "        self.setWindowTitle('鼠标拖入窗口了')\n",
    "        self.QLabl.setText('文件路径：\\n'+evn.mimeData().text())\n",
    "        #鼠标放开函数事件\n",
    "        evn.accept()\n",
    " \n",
    "    # 鼠标放开执行\n",
    "    def dropEvent(self, evn):\n",
    "        self.setWindowTitle('鼠标放开了')\n",
    "    \n",
    "    def dragMoveEvent(self,evn):\n",
    "        print('鼠标移入')\n",
    "\n",
    "if __name__ == \"__main__\":\n",
    "    import sys\n",
    "    app = QtWidgets.QApplication(sys.argv)\n",
    "    MainWindow = QtWidgets.QMainWindow()\n",
    "    ui = Ui_MainWindow()\n",
    "    ui.setupUi(MainWindow)\n",
    "    MainWindow.show()\n",
    "    sys.exit(app.exec_())"
   ]
  },
  {
   "cell_type": "code",
   "execution_count": 12,
   "metadata": {},
   "outputs": [
    {
     "name": "stdout",
     "output_type": "stream",
     "text": [
      "Help on function winfo_id in module tkinter:\n",
      "\n",
      "winfo_id(self)\n",
      "    Return identifier ID for this widget.\n",
      "\n"
     ]
    }
   ],
   "source": []
  },
  {
   "cell_type": "code",
   "execution_count": 1,
   "metadata": {},
   "outputs": [
    {
     "ename": "TypeError",
     "evalue": "setupUi() missing 1 required positional argument: 'MainWindow'",
     "output_type": "error",
     "traceback": [
      "\u001b[1;31m---------------------------------------------------------------------------\u001b[0m",
      "\u001b[1;31mTypeError\u001b[0m                                 Traceback (most recent call last)",
      "\u001b[1;32m<ipython-input-1-f57d55c1274f>\u001b[0m in \u001b[0;36m<module>\u001b[1;34m()\u001b[0m\n\u001b[0;32m     59\u001b[0m     \u001b[0mapp\u001b[0m \u001b[1;33m=\u001b[0m \u001b[0mQApplication\u001b[0m\u001b[1;33m(\u001b[0m\u001b[0msys\u001b[0m\u001b[1;33m.\u001b[0m\u001b[0margv\u001b[0m\u001b[1;33m)\u001b[0m\u001b[1;33m\u001b[0m\u001b[0m\n\u001b[0;32m     60\u001b[0m     \u001b[0mfennbk\u001b[0m \u001b[1;33m=\u001b[0m \u001b[0mFennbk_com\u001b[0m\u001b[1;33m(\u001b[0m\u001b[1;33m)\u001b[0m\u001b[1;33m\u001b[0m\u001b[0m\n\u001b[1;32m---> 61\u001b[1;33m     \u001b[0mfennbk\u001b[0m\u001b[1;33m.\u001b[0m\u001b[0msetupUi\u001b[0m\u001b[1;33m(\u001b[0m\u001b[1;33m)\u001b[0m\u001b[1;33m\u001b[0m\u001b[0m\n\u001b[0m\u001b[0;32m     62\u001b[0m     \u001b[0mfennbk\u001b[0m\u001b[1;33m.\u001b[0m\u001b[0mshow\u001b[0m\u001b[1;33m(\u001b[0m\u001b[1;33m)\u001b[0m\u001b[1;33m\u001b[0m\u001b[0m\n\u001b[0;32m     63\u001b[0m     \u001b[0msys\u001b[0m\u001b[1;33m.\u001b[0m\u001b[0mexit\u001b[0m\u001b[1;33m(\u001b[0m\u001b[0mapp\u001b[0m\u001b[1;33m.\u001b[0m\u001b[0mexec_\u001b[0m\u001b[1;33m(\u001b[0m\u001b[1;33m)\u001b[0m\u001b[1;33m)\u001b[0m\u001b[1;33m\u001b[0m\u001b[0m\n",
      "\u001b[1;31mTypeError\u001b[0m: setupUi() missing 1 required positional argument: 'MainWindow'"
     ]
    }
   ],
   "source": [
    "import sys\n",
    "from PyQt5.QtWidgets import *\n",
    "from PyQt5.QtCore import *\n",
    "from PyQt5.QtGui import *\n",
    " \n",
    " \n",
    "class Fennbk_com(QWidget):\n",
    "    def __init__(self):\n",
    "        super(Fennbk_com, self).__init__()\n",
    "        # 窗口标题\n",
    "        self.setWindowTitle('爱尚博客')\n",
    "        # 定义窗口大小\n",
    "        self.resize(500, 400)\n",
    "        self.QLabl = QLabel(self)\n",
    "        self.QLabl.setGeometry(0,100,4000,38)\n",
    "        #调用Drops方法\n",
    "        self.setAcceptDrops(True)\n",
    "    # 鼠标拖入事件\n",
    "    def dragEnterEvent(self, evn):\n",
    " \n",
    "        self.setWindowTitle('鼠标拖入窗口了')\n",
    "        self.QLabl.setText('文件路径：\\n'+evn.mimeData().text())\n",
    "        #鼠标放开函数事件\n",
    "        evn.accept()\n",
    " \n",
    "    # 鼠标放开执行\n",
    "    def dropEvent(self, evn):\n",
    "        self.setWindowTitle('鼠标放开了')\n",
    "    def dragMoveEvent(self,evn):\n",
    "        print('鼠标移入')\n",
    "if __name__ == \"__main__\":\n",
    "    app = QApplication(sys.argv)\n",
    "    fennbk = Fennbk_com()\n",
    "    fennbk.show()\n",
    "    sys.exit(app.exec_())"
   ]
  }
 ],
 "metadata": {
  "kernelspec": {
   "display_name": "Python 3",
   "language": "python",
   "name": "python3"
  },
  "language_info": {
   "codemirror_mode": {
    "name": "ipython",
    "version": 3
   },
   "file_extension": ".py",
   "mimetype": "text/x-python",
   "name": "python",
   "nbconvert_exporter": "python",
   "pygments_lexer": "ipython3",
   "version": "3.6.5"
  }
 },
 "nbformat": 4,
 "nbformat_minor": 2
}
