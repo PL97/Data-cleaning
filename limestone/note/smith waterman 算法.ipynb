{
 "cells": [
  {
   "cell_type": "markdown",
   "metadata": {},
   "source": [
    "## Smith Waterman 字符串相似度度量算法\n",
    "*smith waterman 算法最初用于基因序列匹配中，用于检测基因序列之间的相似性*\n",
    "<br>\n",
    "<br>\n",
    "序：最近在做数据清洗，需要用到去重处理。想到Smith Waterman可以用于序列对的匹配，并且能处理漏写，简写的问题，所以将问题进行整理，以供参考。\n",
    "____"
   ]
  },
  {
   "cell_type": "markdown",
   "metadata": {},
   "source": [
    "### 相关定义\n",
    "设要比对的两序列为 $str_1$ 和 $str_2$。\n",
    "确定置换矩阵和空位罚分方法\n",
    "  - S(str[i], str[j]) 表示组成序列的元素之间的相似性得分\n",
    "  - $W_k$ 表示长度为k的空位罚分\n",
    "  - H 是得分矩阵，$H_{ij}$ 表示 $S_i$ 和 $S_j$ 匹配的得分情况\n",
    "____\n",
    "\n",
    "### 基本思想\n",
    "+ 创建得分矩阵H并初始化其首行和首列\n",
    "+ 根据匹配结果填写得分矩阵\n",
    "+ 从矩阵尾部往前进行回溯，找出得分最高的一条回溯路线，并将得分返回\n",
    "___"
   ]
  },
  {
   "cell_type": "markdown",
   "metadata": {},
   "source": [
    "### 伪代码\n",
    "#### Simth_Waterman\n",
    "```\n",
    "Input: str1, str2\n",
    "return: the score of match and the comparation path\n",
    "Smith_Waterman(str1, str2){\n",
    "    # initialize matrix H\n",
    "    for i in len(str1)\n",
    "        H[i, 0] = 0\n",
    "    end for \n",
    "    for j in len(str2)\n",
    "        H[0, j] = 0\n",
    "    end for\n",
    "    # fill the H according to the punish matrix\n",
    "    for i in len(str1)\n",
    "        for j in len(str2)\n",
    "            H[i, j] = max{H[i-1, j-1] + S(str[i], str2[j]), max{H[i-k, j] - W[k], k>=1}, max{H[i, j-l - W[l}, l>=1}\n",
    "        end for\n",
    "    end for\n",
    "    score = H[len(str1), len(str2)]\n",
    "    path = trace_back(H)\n",
    "    return score, path\n",
    "}\n",
    "```\n",
    "\n",
    "#### Trace Back\n",
    "\n",
    "```\n",
    "Input: H\n",
    "return score\n",
    "flaot Trace_Back(H){\n",
    "    w, h = H.shape\n",
    "    while(H[i, j] != 0):\n",
    "        if H[i-1, j] + W[1] == H[i, j]:\n",
    "            i = i - 1\n",
    "            record path\n",
    "        else if H[i, j-1] + W[i] == H[i, j]\n",
    "            j = j - 1\n",
    "            record path\n",
    "        else\n",
    "            i = i - 1\n",
    "            j = j - 1\n",
    "            record path\n",
    "        end if\n",
    "     end while\n",
    "     return path, score\n",
    "}\n",
    "```"
   ]
  },
  {
   "cell_type": "markdown",
   "metadata": {},
   "source": [
    "### python 实现"
   ]
  },
  {
   "cell_type": "markdown",
   "metadata": {},
   "source": [
    "#### 导入相关包"
   ]
  },
  {
   "cell_type": "code",
   "execution_count": 1,
   "metadata": {},
   "outputs": [],
   "source": [
    "import numpy as np\n",
    "import re"
   ]
  },
  {
   "cell_type": "markdown",
   "metadata": {},
   "source": [
    "#### Smith_Waterman 实现"
   ]
  },
  {
   "cell_type": "code",
   "execution_count": 2,
   "metadata": {},
   "outputs": [],
   "source": [
    "def Smith_Waterman(str1, str2, s_score, m_score):\n",
    "\tlen1, len2 = len(str1), len(str2)\n",
    "\tmatrix = np.zeros([len1 + 1, len2 + 1])\n",
    "\tfor i in range(len1):\n",
    "\t\tmatrix[i, 0] = 0\n",
    "\tfor i in range(len2):\n",
    "\t\tmatrix[0, i] = 0\n",
    "\tSpace = 0\n",
    "\t# define reward matrix\n",
    "\tfor i in range(1, len1 + 1):\n",
    "\t\tfor j in range(1, len2 + 1):\n",
    "\t\t\tMkj = matrix[i-1, j] - Space\n",
    "\t\t\tMik = matrix[i, j-1] - Space\n",
    "\t\t\tMij = matrix[i-1, j-1] + 1 if str1[i-1] == str2[j-1] else matrix[i-1, j-1] -1\n",
    "\t\t\tmatrix[i, j] = max(Mij, Mkj, Mik, 0)\n",
    "\tmatch_str1, match_str2, match_rate = Trace_back(str1, str2, matrix, Space)\n",
    "\t# print(match_str1)\n",
    "\t# print(match_str2)\n",
    "\t# print(match_rate)\n",
    "\treturn match_str1, match_str2, match_rate"
   ]
  },
  {
   "cell_type": "markdown",
   "metadata": {},
   "source": [
    "#### Trace Back 实现"
   ]
  },
  {
   "cell_type": "code",
   "execution_count": 13,
   "metadata": {},
   "outputs": [],
   "source": [
    "def Trace_back(str1, str2, M, Space):\n",
    "\t#find max\n",
    "\tx, y = np.where(M == np.max(M))\n",
    "\tx, y = x[0], y[0]\n",
    "\tmatch_str1, match_str2 = '', ''\n",
    "\tmatch_count = 0\n",
    "\tscore, count = 0, 0\n",
    "    # find all the character at the begining of the string\n",
    "\tidx1 = [i.start()+1 for i in re.finditer(' ', str1)]\n",
    "\tidx2 = [i.start()+1 for i in re.finditer(' ', str2)]\n",
    "\tidx3 = [i.start()+1 for i in re.finditer('.', str1)]\n",
    "\tidx4 = [i.start()+1 for i in re.finditer('.', str2)]\n",
    "\tidx1.append(0)\n",
    "\tidx2.append(0)\n",
    "    # punish all the character did not match\n",
    "\tpunish = min(len(str1)-x, len(str2) - y)\n",
    "\tflag = False\n",
    "\twhile M[x, y] != 0:\n",
    "\t\tcount += 1\n",
    "\t\t# print(x, y)\n",
    "\t\tif M[x - 1, y] - Space == M[x, y]:\n",
    "\t\t\tx = x -1\n",
    "\t\t\tmatch_str1, match_str2 = str1[x] + match_str1, '_' + match_str2\n",
    "\t\t\tif y in idx4:\n",
    "\t\t\t\tcontinue\n",
    "\t\t\tif x in idx1 and y in idx2:\n",
    "\t\t\t\tscore -= 2\n",
    "\t\t\telse:\n",
    "\t\t\t\tscore -= 1 if flag else 0.5\n",
    "\t\t\tflag = True\n",
    "\t\telif M[x, y - 1] - Space == M[x, y]:\n",
    "\t\t\ty = y - 1\n",
    "\t\t\tmatch_str1, match_str2 = '_' + match_str1, str2[y] + match_str2\n",
    "\t\t\tif x in idx3:\n",
    "\t\t\t\tcontinue\n",
    "\t\t\tif x in idx1 and y in idx2:\n",
    "\t\t\t\tscore -= 2\n",
    "\t\t\telse:\n",
    "\t\t\t\tscore -= 1 if flag else 0.5\n",
    "\t\t\tflag = True\n",
    "\t\telse:\n",
    "\t\t\tx, y = x-1, y-1\n",
    "\t\t\tmatch_str1, match_str2 = str1[x] + match_str1, str2[y] + match_str2\n",
    "\t\t\tmatch_count += 1\n",
    "\t\t\tif x in idx1 and y in idx2:\n",
    "\t\t\t\tscore += 2\n",
    "\t\t\t\tprint(x)\n",
    "\t\t\telse:\n",
    "\t\t\t\tscore += 1\n",
    "\t\t\tflag = False\n",
    "\t\t# match_rate = match_count/min(len(str1), len(str2))\n",
    "\treturn match_str1, match_str2, (2*score-punish)/(len(str1) + len(str2))"
   ]
  },
  {
   "cell_type": "markdown",
   "metadata": {},
   "source": [
    "#### 测试代码"
   ]
  },
  {
   "cell_type": "code",
   "execution_count": 24,
   "metadata": {},
   "outputs": [
    {
     "name": "stdout",
     "output_type": "stream",
     "text": [
      "9\n",
      "0\n",
      "('F_ranklin D. __Roosevel', 'F._______ D. Hi_______l', 0.4838709677419355)\n"
     ]
    }
   ],
   "source": [
    "if __name__ == '__main__':\n",
    "\tstr1 = 'Franklin D. Roosevelt'\n",
    "\tstr2 = 'F. D. Hill'\n",
    "\tprint(Smith_Waterman(str1, str2, 0.5, 1))"
   ]
  },
  {
   "cell_type": "markdown",
   "metadata": {},
   "source": [
    "#### *如有任何疑问请留言，多多指教*"
   ]
  }
 ],
 "metadata": {
  "celltoolbar": "Attachments",
  "kernelspec": {
   "display_name": "Python 3",
   "language": "python",
   "name": "python3"
  },
  "language_info": {
   "codemirror_mode": {
    "name": "ipython",
    "version": 3
   },
   "file_extension": ".py",
   "mimetype": "text/x-python",
   "name": "python",
   "nbconvert_exporter": "python",
   "pygments_lexer": "ipython3",
   "version": "3.6.5"
  }
 },
 "nbformat": 4,
 "nbformat_minor": 2
}
