{
 "cells": [
  {
   "cell_type": "code",
   "execution_count": 36,
   "metadata": {},
   "outputs": [],
   "source": [
    "import pandas as pd\n",
    "import numpy as np\n",
    "import re"
   ]
  },
  {
   "cell_type": "code",
   "execution_count": 19,
   "metadata": {},
   "outputs": [],
   "source": [
    "fname1 = 'surname.csv'\n",
    "fname2 = 'lastname.txt'\n",
    "\n",
    "data1 = pd.read_csv(fname1, index_col = 0)\n",
    "temp_data2 = np.loadtxt(fname2, dtype = 'str', delimiter='\\n')\n",
    "data2 = pd.DataFrame([i.split('\\t') for i in temp_data2])"
   ]
  },
  {
   "cell_type": "code",
   "execution_count": 21,
   "metadata": {},
   "outputs": [
    {
     "name": "stdout",
     "output_type": "stream",
     "text": [
      "          0\n",
      "0     SMITH\n",
      "1     JONES\n",
      "2     BROWN\n",
      "3   JOHNSON\n",
      "4  WILLIAMS\n",
      "        0          1\n",
      "0   Abig.    Abigail\n",
      "1    Abr.    Abraham\n",
      "2    Agn.      Agnes\n",
      "3   Alex.  Alexander\n",
      "4  Alex.r  Alexander\n"
     ]
    }
   ],
   "source": [
    "print(data1.head())\n",
    "print(data2.head())"
   ]
  },
  {
   "cell_type": "code",
   "execution_count": 63,
   "metadata": {},
   "outputs": [
    {
     "name": "stdout",
     "output_type": "stream",
     "text": [
      "                     0                    1\n",
      "0          Abig. SMITH        Abigail SMITH\n",
      "1          Abig. JONES        Abigail JONES\n",
      "2          Abig. BROWN        Abigail BROWN\n",
      "3        Abig. JOHNSON      Abigail JOHNSON\n",
      "4       Abig. WILLIAMS     Abigail WILLIAMS\n",
      "5         Abig. MILLER       Abigail MILLER\n",
      "6         Abig. TAYLOR       Abigail TAYLOR\n",
      "7         Abig. WILSON       Abigail WILSON\n",
      "8          Abig. DAVIS        Abigail DAVIS\n",
      "9          Abig. WHITE        Abigail WHITE\n",
      "10         Abig. CLARK        Abigail CLARK\n",
      "11          Abig. HALL         Abigail HALL\n",
      "12        Abig. THOMAS       Abigail THOMAS\n",
      "13      Abig. THOMPSON     Abigail THOMPSON\n",
      "14         Abig. MOORE        Abigail MOORE\n",
      "15          Abig. HILL         Abigail HILL\n",
      "16        Abig. WALKER       Abigail WALKER\n",
      "17      Abig. ANDERSON     Abigail ANDERSON\n",
      "18        Abig. WRIGHT       Abigail WRIGHT\n",
      "19        Abig. MARTIN       Abigail MARTIN\n",
      "20          Abig. WOOD         Abigail WOOD\n",
      "21         Abig. ALLEN        Abigail ALLEN\n",
      "22      Abig. ROBINSON     Abigail ROBINSON\n",
      "23         Abig. LEWIS        Abigail LEWIS\n",
      "24         Abig. SCOTT        Abigail SCOTT\n",
      "25         Abig. YOUNG        Abigail YOUNG\n",
      "26       Abig. JACKSON      Abigail JACKSON\n",
      "27         Abig. ADAMS        Abigail ADAMS\n",
      "28      Abig. TRYNISKI     Abigail TRYNISKI\n",
      "29         Abig. GREEN        Abigail GREEN\n",
      "...                ...                  ...\n",
      "18530     Zach. GORDON     Zachariah GORDON\n",
      "18531    Zach. WHEELER    Zachariah WHEELER\n",
      "18532     Zach. STREET     Zachariah STREET\n",
      "18533      Zach. PERRY      Zachariah PERRY\n",
      "18534      Zach. BLACK      Zachariah BLACK\n",
      "18535       Zach. LANE       Zachariah LANE\n",
      "18536    Zach. GARDNER    Zachariah GARDNER\n",
      "18537       Zach. CITY       Zachariah CITY\n",
      "18538   Zach. LAWRENCE   Zachariah LAWRENCE\n",
      "18539    Zach. ANDREWS    Zachariah ANDREWS\n",
      "18540     Zach. WARREN     Zachariah WARREN\n",
      "18541    Zach. SPENCER    Zachariah SPENCER\n",
      "18542       Zach. RICE       Zachariah RICE\n",
      "18543    Zach. JENKINS    Zachariah JENKINS\n",
      "18544     Zach. KNIGHT     Zachariah KNIGHT\n",
      "18545  Zach. ARMSTRONG  Zachariah ARMSTRONG\n",
      "18546      Zach. BURNS      Zachariah BURNS\n",
      "18547     Zach. BARKER     Zachariah BARKER\n",
      "18548       Zach. DUNN       Zachariah DUNN\n",
      "18549       Zach. REID       Zachariah REID\n",
      "18550    Zach. COLLEGE    Zachariah COLLEGE\n",
      "18551       Zach. MARY       Zachariah MARY\n",
      "18552      Zach. HAYES      Zachariah HAYES\n",
      "18553       Zach. PAGE       Zachariah PAGE\n",
      "18554       Zach. ROSE       Zachariah ROSE\n",
      "18555  Zach. PATTERSON  Zachariah PATTERSON\n",
      "18556        Zach. ANN        Zachariah ANN\n",
      "18557   Zach. CRAWFORD   Zachariah CRAWFORD\n",
      "18558     Zach. ARNOLD     Zachariah ARNOLD\n",
      "18559      Zach. HOUSE      Zachariah HOUSE\n",
      "\n",
      "[18560 rows x 2 columns]\n"
     ]
    }
   ],
   "source": [
    "full_name_L = []\n",
    "for i in data2.itertuples(index = False):\n",
    "    for j in data1.itertuples(index = False):\n",
    "        test = \"as ad (asdf)\"\n",
    "        i[0].replace(' (US)', '')\n",
    "        temp_name1 = i[0] + ' ' + j[0]\n",
    "        temp_name2 = i[1] + ' ' + j[0]\n",
    "        full_name_L.append((temp_name1, temp_name2))\n",
    "full_name_L = pd.DataFrame(full_name_L)\n",
    "full_name_L.to_csv('full_name.csv')\n",
    "# print(full_name_L)"
   ]
  },
  {
   "cell_type": "code",
   "execution_count": null,
   "metadata": {},
   "outputs": [],
   "source": []
  }
 ],
 "metadata": {
  "kernelspec": {
   "display_name": "Python 3",
   "language": "python",
   "name": "python3"
  },
  "language_info": {
   "codemirror_mode": {
    "name": "ipython",
    "version": 3
   },
   "file_extension": ".py",
   "mimetype": "text/x-python",
   "name": "python",
   "nbconvert_exporter": "python",
   "pygments_lexer": "ipython3",
   "version": "3.6.5"
  }
 },
 "nbformat": 4,
 "nbformat_minor": 2
}
