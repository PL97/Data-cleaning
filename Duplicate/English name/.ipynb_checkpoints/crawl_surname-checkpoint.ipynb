{
 "cells": [
  {
   "cell_type": "code",
   "execution_count": 28,
   "metadata": {},
   "outputs": [],
   "source": [
    "import urllib.request\n",
    "import re\n",
    "from bs4 import BeautifulSoup\n",
    "import pandas as pd"
   ]
  },
  {
   "cell_type": "code",
   "execution_count": 4,
   "metadata": {},
   "outputs": [],
   "source": [
    "response = urllib.request.urlopen('https://en.geneanet.org/genealogy/')\n",
    "result = response.read()"
   ]
  },
  {
   "cell_type": "code",
   "execution_count": 30,
   "metadata": {},
   "outputs": [
    {
     "name": "stdout",
     "output_type": "stream",
     "text": [
      "all names found\n",
      "             0\n",
      "0        SMITH\n",
      "1        JONES\n",
      "2        BROWN\n",
      "3      JOHNSON\n",
      "4     WILLIAMS\n",
      "5       MILLER\n",
      "6       TAYLOR\n",
      "7       WILSON\n",
      "8        DAVIS\n",
      "9        WHITE\n",
      "10       CLARK\n",
      "11        HALL\n",
      "12      THOMAS\n",
      "13    THOMPSON\n",
      "14       MOORE\n",
      "15        HILL\n",
      "16      WALKER\n",
      "17    ANDERSON\n",
      "18      WRIGHT\n",
      "19      MARTIN\n",
      "20        WOOD\n",
      "21       ALLEN\n",
      "22    ROBINSON\n",
      "23       LEWIS\n",
      "24       SCOTT\n",
      "25       YOUNG\n",
      "26     JACKSON\n",
      "27       ADAMS\n",
      "28    TRYNISKI\n",
      "29       GREEN\n",
      "..         ...\n",
      "130     GORDON\n",
      "131    WHEELER\n",
      "132     STREET\n",
      "133      PERRY\n",
      "134      BLACK\n",
      "135       LANE\n",
      "136    GARDNER\n",
      "137       CITY\n",
      "138   LAWRENCE\n",
      "139    ANDREWS\n",
      "140     WARREN\n",
      "141    SPENCER\n",
      "142       RICE\n",
      "143    JENKINS\n",
      "144     KNIGHT\n",
      "145  ARMSTRONG\n",
      "146      BURNS\n",
      "147     BARKER\n",
      "148       DUNN\n",
      "149       REID\n",
      "150    COLLEGE\n",
      "151       MARY\n",
      "152      HAYES\n",
      "153       PAGE\n",
      "154       ROSE\n",
      "155  PATTERSON\n",
      "156        ANN\n",
      "157   CRAWFORD\n",
      "158     ARNOLD\n",
      "159      HOUSE\n",
      "\n",
      "[160 rows x 1 columns]\n"
     ]
    }
   ],
   "source": [
    "#创建一个BeautifulSoup解析对象\n",
    "soup = BeautifulSoup(result,\"html.parser\",from_encoding=\"utf-8\")\n",
    "#获取所有的链接\n",
    "names = soup.find('ul', {'id': 'noms'}).findChildren(\"a\" , recursive=True)\n",
    "print(\"all names found\")\n",
    "L = []\n",
    "for n in names:\n",
    "    L.append(n.getText())\n",
    "L = pd.DataFrame(L)\n",
    "fname = 'surname.csv'\n",
    "L.to_csv(fname)"
   ]
  },
  {
   "cell_type": "code",
   "execution_count": null,
   "metadata": {},
   "outputs": [],
   "source": []
  }
 ],
 "metadata": {
  "kernelspec": {
   "display_name": "Python 3",
   "language": "python",
   "name": "python3"
  },
  "language_info": {
   "codemirror_mode": {
    "name": "ipython",
    "version": 3
   },
   "file_extension": ".py",
   "mimetype": "text/x-python",
   "name": "python",
   "nbconvert_exporter": "python",
   "pygments_lexer": "ipython3",
   "version": "3.6.5"
  }
 },
 "nbformat": 4,
 "nbformat_minor": 2
}
