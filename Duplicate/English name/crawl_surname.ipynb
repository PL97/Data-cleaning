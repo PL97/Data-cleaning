{
 "cells": [
  {
   "cell_type": "code",
   "execution_count": 28,
   "metadata": {},
   "outputs": [],
   "source": [
    "import urllib.request\n",
    "import re\n",
    "from bs4 import BeautifulSoup\n",
    "import pandas as pd"
   ]
  },
  {
   "cell_type": "code",
   "execution_count": 4,
   "metadata": {},
   "outputs": [],
   "source": [
    "response = urllib.request.urlopen('https://en.geneanet.org/genealogy/')\n",
    "result = response.read()"
   ]
  },
  {
   "cell_type": "code",
   "execution_count": 31,
   "metadata": {},
   "outputs": [
    {
     "name": "stdout",
     "output_type": "stream",
     "text": [
      "all names found\n"
     ]
    }
   ],
   "source": [
    "#创建一个BeautifulSoup解析对象\n",
    "soup = BeautifulSoup(result,\"html.parser\",from_encoding=\"utf-8\")\n",
    "#获取所有的链接\n",
    "names = soup.find('ul', {'id': 'noms'}).findChildren(\"a\" , recursive=True)\n",
    "print(\"all names found\")\n",
    "L = []\n",
    "for n in names:\n",
    "    L.append(n.getText())\n",
    "L = pd.DataFrame(L)\n",
    "fname = 'surname.csv'\n",
    "L.to_csv(fname)"
   ]
  },
  {
   "cell_type": "code",
   "execution_count": null,
   "metadata": {},
   "outputs": [],
   "source": []
  }
 ],
 "metadata": {
  "kernelspec": {
   "display_name": "Python 3",
   "language": "python",
   "name": "python3"
  },
  "language_info": {
   "codemirror_mode": {
    "name": "ipython",
    "version": 3
   },
   "file_extension": ".py",
   "mimetype": "text/x-python",
   "name": "python",
   "nbconvert_exporter": "python",
   "pygments_lexer": "ipython3",
   "version": "3.6.5"
  }
 },
 "nbformat": 4,
 "nbformat_minor": 2
}
