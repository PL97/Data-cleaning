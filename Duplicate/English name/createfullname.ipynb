{
 "cells": [
  {
   "cell_type": "code",
   "execution_count": 36,
   "metadata": {},
   "outputs": [],
   "source": [
    "import pandas as pd\n",
    "import numpy as np\n",
    "import re"
   ]
  },
  {
   "cell_type": "code",
   "execution_count": 19,
   "metadata": {},
   "outputs": [],
   "source": [
    "fname1 = 'surname.csv'\n",
    "fname2 = 'lastname.txt'\n",
    "\n",
    "data1 = pd.read_csv(fname1, index_col = 0)\n",
    "temp_data2 = np.loadtxt(fname2, dtype = 'str', delimiter='\\n')\n",
    "data2 = pd.DataFrame([i.split('\\t') for i in temp_data2])"
   ]
  },
  {
   "cell_type": "code",
   "execution_count": 21,
   "metadata": {},
   "outputs": [
    {
     "name": "stdout",
     "output_type": "stream",
     "text": [
      "          0\n",
      "0     SMITH\n",
      "1     JONES\n",
      "2     BROWN\n",
      "3   JOHNSON\n",
      "4  WILLIAMS\n",
      "        0          1\n",
      "0   Abig.    Abigail\n",
      "1    Abr.    Abraham\n",
      "2    Agn.      Agnes\n",
      "3   Alex.  Alexander\n",
      "4  Alex.r  Alexander\n"
     ]
    }
   ],
   "source": [
    "print(data1.head())\n",
    "print(data2.head())"
   ]
  },
  {
   "cell_type": "code",
   "execution_count": 64,
   "metadata": {},
   "outputs": [],
   "source": [
    "full_name_L = []\n",
    "for i in data2.itertuples(index = False):\n",
    "    for j in data1.itertuples(index = False):\n",
    "        test = \"as ad (asdf)\"\n",
    "        i[0].replace(' (US)', '')\n",
    "        temp_name1 = i[0] + ' ' + j[0]\n",
    "        temp_name2 = i[1] + ' ' + j[0]\n",
    "        full_name_L.append((temp_name1, temp_name2))\n",
    "full_name_L = pd.DataFrame(full_name_L)\n",
    "full_name_L.to_csv('full_name.csv')\n",
    "# print(full_name_L)"
   ]
  },
  {
   "cell_type": "code",
   "execution_count": null,
   "metadata": {},
   "outputs": [],
   "source": []
  }
 ],
 "metadata": {
  "kernelspec": {
   "display_name": "Python 3",
   "language": "python",
   "name": "python3"
  },
  "language_info": {
   "codemirror_mode": {
    "name": "ipython",
    "version": 3
   },
   "file_extension": ".py",
   "mimetype": "text/x-python",
   "name": "python",
   "nbconvert_exporter": "python",
   "pygments_lexer": "ipython3",
   "version": "3.6.5"
  }
 },
 "nbformat": 4,
 "nbformat_minor": 2
}
